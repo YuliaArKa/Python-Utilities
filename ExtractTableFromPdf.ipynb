{
 "cells": [
  {
   "cell_type": "markdown",
   "metadata": {},
   "source": [
    "# Extract Table from PDF"
   ]
  },
  {
   "cell_type": "markdown",
   "metadata": {},
   "source": [
    "### Install pdfplumb package"
   ]
  },
  {
   "cell_type": "code",
   "execution_count": 15,
   "metadata": {},
   "outputs": [
    {
     "name": "stdout",
     "output_type": "stream",
     "text": [
      "Requirement already satisfied: pdfplumber in c:\\users\\julia\\anaconda3\\envs\\cleancode\\lib\\site-packages (0.5.25)\n",
      "Requirement already satisfied: Pillow>=7.0.0 in c:\\users\\julia\\anaconda3\\envs\\cleancode\\lib\\site-packages (from pdfplumber) (8.1.0)\n",
      "Requirement already satisfied: pdfminer.six==20200517 in c:\\users\\julia\\anaconda3\\envs\\cleancode\\lib\\site-packages (from pdfplumber) (20200517)\n",
      "Requirement already satisfied: Wand in c:\\users\\julia\\anaconda3\\envs\\cleancode\\lib\\site-packages (from pdfplumber) (0.6.5)\n",
      "Requirement already satisfied: chardet in c:\\users\\julia\\anaconda3\\envs\\cleancode\\lib\\site-packages (from pdfminer.six==20200517->pdfplumber) (4.0.0)\n",
      "Requirement already satisfied: pycryptodome in c:\\users\\julia\\anaconda3\\envs\\cleancode\\lib\\site-packages (from pdfminer.six==20200517->pdfplumber) (3.9.9)\n",
      "Requirement already satisfied: sortedcontainers in c:\\users\\julia\\anaconda3\\envs\\cleancode\\lib\\site-packages (from pdfminer.six==20200517->pdfplumber) (2.3.0)\n"
     ]
    }
   ],
   "source": [
    "!pip install pdfplumber"
   ]
  },
  {
   "cell_type": "markdown",
   "metadata": {},
   "source": [
    "### Import pdfplumb"
   ]
  },
  {
   "cell_type": "code",
   "execution_count": 16,
   "metadata": {},
   "outputs": [],
   "source": [
    "import pdfplumber"
   ]
  },
  {
   "cell_type": "markdown",
   "metadata": {},
   "source": [
    "### Open PDF file"
   ]
  },
  {
   "cell_type": "code",
   "execution_count": 17,
   "metadata": {},
   "outputs": [],
   "source": [
    "filename=\"example.pdf\"\n",
    "pdf = pdfplumber.open(filename)"
   ]
  },
  {
   "cell_type": "markdown",
   "metadata": {},
   "source": [
    "### Looking for the largest table in the file"
   ]
  },
  {
   "cell_type": "code",
   "execution_count": 27,
   "metadata": {},
   "outputs": [],
   "source": [
    "table=pdf.pages[0].extract_table()"
   ]
  },
  {
   "cell_type": "markdown",
   "metadata": {},
   "source": [
    "### Look at table"
   ]
  },
  {
   "cell_type": "code",
   "execution_count": 28,
   "metadata": {},
   "outputs": [
    {
     "data": {
      "text/plain": [
       "[['', 'Title', None, 'March Title', None, 'Title'],\n",
       " ['', '2010', '2011', '2012', '2013', '2014'],\n",
       " ['Index 1', '10', '10', '10', '10', '10'],\n",
       " ['Index 2', '20', '20', '20', '20', '20'],\n",
       " ['Index 3', '30', '30', '30', '30', '30'],\n",
       " ['Index 4', '40', '40', '40', '40', '40'],\n",
       " ['Index 5', '50', '50', '50', '50', '50'],\n",
       " ['Index 6', '60', '60', '60', '60', '60'],\n",
       " ['Index 7', '70', '70', '70', '70', '70'],\n",
       " ['Index 8', '80', '80', '80', '80', '80'],\n",
       " ['Index 9', '90', '90', '90', '90', '90'],\n",
       " ['Index 10', '100', '100', '100', '100', '100'],\n",
       " ['Index 11', '110', '110', '110', '110', '110'],\n",
       " ['Index 12', '120', '120', '120', '120', '120'],\n",
       " ['Index 13', '130', '130', '130', '130', '130'],\n",
       " ['Index 14', '140', '140', '140', '140', '140'],\n",
       " ['Index 15', '150', '150', '150', '150', '150'],\n",
       " ['Index 16', '160', '160', '160', '160', '160'],\n",
       " ['Index 17', '170', '170', '170', '170', '170'],\n",
       " ['Index 18', '180', '180', '180', '180', '180'],\n",
       " ['Index 19', '190', '190', '190', '190', '190'],\n",
       " ['Index 20', '200', '200', '200', '200', '200'],\n",
       " ['Index 21', '210', '210', '210', '210', '210'],\n",
       " ['Index 22', '220', '220', '220', '220', '220'],\n",
       " ['Index 23', '230', '230', '230', '230', '230'],\n",
       " ['Index 24', '240', '240', '240', '240', '240'],\n",
       " ['Index 25', '250', '250', '250', '250', '250']]"
      ]
     },
     "execution_count": 28,
     "metadata": {},
     "output_type": "execute_result"
    }
   ],
   "source": [
    "table"
   ]
  },
  {
   "cell_type": "markdown",
   "metadata": {},
   "source": [
    "### Find Title in the table"
   ]
  },
  {
   "cell_type": "code",
   "execution_count": 21,
   "metadata": {},
   "outputs": [
    {
     "name": "stdout",
     "output_type": "stream",
     "text": [
      "0 ['', 'Title', None, 'March Title', None, 'Title']\n"
     ]
    }
   ],
   "source": [
    "header=0\n",
    "for i,row in enumerate(table):\n",
    "    for column in row:\n",
    "        if column!=None:\n",
    "            if \"Title\" in column:\n",
    "                print(i,row)\n",
    "                header=i+1\n",
    "                break"
   ]
  },
  {
   "cell_type": "code",
   "execution_count": 22,
   "metadata": {},
   "outputs": [],
   "source": [
    "columns=list()\n",
    "for column in table[header]:\n",
    "    if column!=None and len(column)>1:\n",
    "        columns.append(column)"
   ]
  },
  {
   "cell_type": "code",
   "execution_count": 23,
   "metadata": {},
   "outputs": [
    {
     "data": {
      "text/plain": [
       "['2010', '2011', '2012', '2013', '2014']"
      ]
     },
     "execution_count": 23,
     "metadata": {},
     "output_type": "execute_result"
    }
   ],
   "source": [
    "columns"
   ]
  },
  {
   "cell_type": "code",
   "execution_count": 24,
   "metadata": {},
   "outputs": [],
   "source": [
    "import pandas as pd\n",
    "\n",
    "df = pd.DataFrame(table[header+1:])\n",
    "df.index=df[0]\n",
    "df=df.rename_axis(index=None)\n",
    "del df[0]\n",
    "df.columns=columns"
   ]
  },
  {
   "cell_type": "code",
   "execution_count": 25,
   "metadata": {},
   "outputs": [
    {
     "data": {
      "text/html": [
       "<div>\n",
       "<style scoped>\n",
       "    .dataframe tbody tr th:only-of-type {\n",
       "        vertical-align: middle;\n",
       "    }\n",
       "\n",
       "    .dataframe tbody tr th {\n",
       "        vertical-align: top;\n",
       "    }\n",
       "\n",
       "    .dataframe thead th {\n",
       "        text-align: right;\n",
       "    }\n",
       "</style>\n",
       "<table border=\"1\" class=\"dataframe\">\n",
       "  <thead>\n",
       "    <tr style=\"text-align: right;\">\n",
       "      <th></th>\n",
       "      <th>2010</th>\n",
       "      <th>2011</th>\n",
       "      <th>2012</th>\n",
       "      <th>2013</th>\n",
       "      <th>2014</th>\n",
       "    </tr>\n",
       "  </thead>\n",
       "  <tbody>\n",
       "    <tr>\n",
       "      <th>Index 1</th>\n",
       "      <td>10</td>\n",
       "      <td>10</td>\n",
       "      <td>10</td>\n",
       "      <td>10</td>\n",
       "      <td>10</td>\n",
       "    </tr>\n",
       "    <tr>\n",
       "      <th>Index 2</th>\n",
       "      <td>20</td>\n",
       "      <td>20</td>\n",
       "      <td>20</td>\n",
       "      <td>20</td>\n",
       "      <td>20</td>\n",
       "    </tr>\n",
       "    <tr>\n",
       "      <th>Index 3</th>\n",
       "      <td>30</td>\n",
       "      <td>30</td>\n",
       "      <td>30</td>\n",
       "      <td>30</td>\n",
       "      <td>30</td>\n",
       "    </tr>\n",
       "    <tr>\n",
       "      <th>Index 4</th>\n",
       "      <td>40</td>\n",
       "      <td>40</td>\n",
       "      <td>40</td>\n",
       "      <td>40</td>\n",
       "      <td>40</td>\n",
       "    </tr>\n",
       "    <tr>\n",
       "      <th>Index 5</th>\n",
       "      <td>50</td>\n",
       "      <td>50</td>\n",
       "      <td>50</td>\n",
       "      <td>50</td>\n",
       "      <td>50</td>\n",
       "    </tr>\n",
       "    <tr>\n",
       "      <th>Index 6</th>\n",
       "      <td>60</td>\n",
       "      <td>60</td>\n",
       "      <td>60</td>\n",
       "      <td>60</td>\n",
       "      <td>60</td>\n",
       "    </tr>\n",
       "    <tr>\n",
       "      <th>Index 7</th>\n",
       "      <td>70</td>\n",
       "      <td>70</td>\n",
       "      <td>70</td>\n",
       "      <td>70</td>\n",
       "      <td>70</td>\n",
       "    </tr>\n",
       "    <tr>\n",
       "      <th>Index 8</th>\n",
       "      <td>80</td>\n",
       "      <td>80</td>\n",
       "      <td>80</td>\n",
       "      <td>80</td>\n",
       "      <td>80</td>\n",
       "    </tr>\n",
       "    <tr>\n",
       "      <th>Index 9</th>\n",
       "      <td>90</td>\n",
       "      <td>90</td>\n",
       "      <td>90</td>\n",
       "      <td>90</td>\n",
       "      <td>90</td>\n",
       "    </tr>\n",
       "    <tr>\n",
       "      <th>Index 10</th>\n",
       "      <td>100</td>\n",
       "      <td>100</td>\n",
       "      <td>100</td>\n",
       "      <td>100</td>\n",
       "      <td>100</td>\n",
       "    </tr>\n",
       "    <tr>\n",
       "      <th>Index 11</th>\n",
       "      <td>110</td>\n",
       "      <td>110</td>\n",
       "      <td>110</td>\n",
       "      <td>110</td>\n",
       "      <td>110</td>\n",
       "    </tr>\n",
       "    <tr>\n",
       "      <th>Index 12</th>\n",
       "      <td>120</td>\n",
       "      <td>120</td>\n",
       "      <td>120</td>\n",
       "      <td>120</td>\n",
       "      <td>120</td>\n",
       "    </tr>\n",
       "    <tr>\n",
       "      <th>Index 13</th>\n",
       "      <td>130</td>\n",
       "      <td>130</td>\n",
       "      <td>130</td>\n",
       "      <td>130</td>\n",
       "      <td>130</td>\n",
       "    </tr>\n",
       "    <tr>\n",
       "      <th>Index 14</th>\n",
       "      <td>140</td>\n",
       "      <td>140</td>\n",
       "      <td>140</td>\n",
       "      <td>140</td>\n",
       "      <td>140</td>\n",
       "    </tr>\n",
       "    <tr>\n",
       "      <th>Index 15</th>\n",
       "      <td>150</td>\n",
       "      <td>150</td>\n",
       "      <td>150</td>\n",
       "      <td>150</td>\n",
       "      <td>150</td>\n",
       "    </tr>\n",
       "    <tr>\n",
       "      <th>Index 16</th>\n",
       "      <td>160</td>\n",
       "      <td>160</td>\n",
       "      <td>160</td>\n",
       "      <td>160</td>\n",
       "      <td>160</td>\n",
       "    </tr>\n",
       "    <tr>\n",
       "      <th>Index 17</th>\n",
       "      <td>170</td>\n",
       "      <td>170</td>\n",
       "      <td>170</td>\n",
       "      <td>170</td>\n",
       "      <td>170</td>\n",
       "    </tr>\n",
       "    <tr>\n",
       "      <th>Index 18</th>\n",
       "      <td>180</td>\n",
       "      <td>180</td>\n",
       "      <td>180</td>\n",
       "      <td>180</td>\n",
       "      <td>180</td>\n",
       "    </tr>\n",
       "    <tr>\n",
       "      <th>Index 19</th>\n",
       "      <td>190</td>\n",
       "      <td>190</td>\n",
       "      <td>190</td>\n",
       "      <td>190</td>\n",
       "      <td>190</td>\n",
       "    </tr>\n",
       "    <tr>\n",
       "      <th>Index 20</th>\n",
       "      <td>200</td>\n",
       "      <td>200</td>\n",
       "      <td>200</td>\n",
       "      <td>200</td>\n",
       "      <td>200</td>\n",
       "    </tr>\n",
       "    <tr>\n",
       "      <th>Index 21</th>\n",
       "      <td>210</td>\n",
       "      <td>210</td>\n",
       "      <td>210</td>\n",
       "      <td>210</td>\n",
       "      <td>210</td>\n",
       "    </tr>\n",
       "    <tr>\n",
       "      <th>Index 22</th>\n",
       "      <td>220</td>\n",
       "      <td>220</td>\n",
       "      <td>220</td>\n",
       "      <td>220</td>\n",
       "      <td>220</td>\n",
       "    </tr>\n",
       "    <tr>\n",
       "      <th>Index 23</th>\n",
       "      <td>230</td>\n",
       "      <td>230</td>\n",
       "      <td>230</td>\n",
       "      <td>230</td>\n",
       "      <td>230</td>\n",
       "    </tr>\n",
       "    <tr>\n",
       "      <th>Index 24</th>\n",
       "      <td>240</td>\n",
       "      <td>240</td>\n",
       "      <td>240</td>\n",
       "      <td>240</td>\n",
       "      <td>240</td>\n",
       "    </tr>\n",
       "    <tr>\n",
       "      <th>Index 25</th>\n",
       "      <td>250</td>\n",
       "      <td>250</td>\n",
       "      <td>250</td>\n",
       "      <td>250</td>\n",
       "      <td>250</td>\n",
       "    </tr>\n",
       "  </tbody>\n",
       "</table>\n",
       "</div>"
      ],
      "text/plain": [
       "         2010 2011 2012 2013 2014\n",
       "Index 1    10   10   10   10   10\n",
       "Index 2    20   20   20   20   20\n",
       "Index 3    30   30   30   30   30\n",
       "Index 4    40   40   40   40   40\n",
       "Index 5    50   50   50   50   50\n",
       "Index 6    60   60   60   60   60\n",
       "Index 7    70   70   70   70   70\n",
       "Index 8    80   80   80   80   80\n",
       "Index 9    90   90   90   90   90\n",
       "Index 10  100  100  100  100  100\n",
       "Index 11  110  110  110  110  110\n",
       "Index 12  120  120  120  120  120\n",
       "Index 13  130  130  130  130  130\n",
       "Index 14  140  140  140  140  140\n",
       "Index 15  150  150  150  150  150\n",
       "Index 16  160  160  160  160  160\n",
       "Index 17  170  170  170  170  170\n",
       "Index 18  180  180  180  180  180\n",
       "Index 19  190  190  190  190  190\n",
       "Index 20  200  200  200  200  200\n",
       "Index 21  210  210  210  210  210\n",
       "Index 22  220  220  220  220  220\n",
       "Index 23  230  230  230  230  230\n",
       "Index 24  240  240  240  240  240\n",
       "Index 25  250  250  250  250  250"
      ]
     },
     "execution_count": 25,
     "metadata": {},
     "output_type": "execute_result"
    }
   ],
   "source": [
    "df"
   ]
  },
  {
   "cell_type": "code",
   "execution_count": 26,
   "metadata": {},
   "outputs": [],
   "source": [
    "df.to_csv(filename.split('.')[0]+'.csv',encoding='utf-8-sig')"
   ]
  },
  {
   "cell_type": "code",
   "execution_count": null,
   "metadata": {},
   "outputs": [],
   "source": []
  }
 ],
 "metadata": {
  "kernelspec": {
   "display_name": "Python 3",
   "language": "python",
   "name": "python3"
  },
  "language_info": {
   "codemirror_mode": {
    "name": "ipython",
    "version": 3
   },
   "file_extension": ".py",
   "mimetype": "text/x-python",
   "name": "python",
   "nbconvert_exporter": "python",
   "pygments_lexer": "ipython3",
   "version": "3.8.5"
  }
 },
 "nbformat": 4,
 "nbformat_minor": 4
}
